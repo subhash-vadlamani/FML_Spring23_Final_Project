{
 "cells": [
  {
   "cell_type": "markdown",
   "id": "e03f7fcc-0cb6-4bcd-a647-e01c4a2f82b9",
   "metadata": {},
   "source": [
    "# Testing"
   ]
  },
  {
   "cell_type": "markdown",
   "id": "f2b47658-c685-42f0-8551-df4039dd960d",
   "metadata": {},
   "source": [
    "### Importing necessities"
   ]
  },
  {
   "cell_type": "code",
   "execution_count": 1,
   "id": "17ca0c2c-e6a3-4e28-82a2-e8fc8f4629f5",
   "metadata": {},
   "outputs": [],
   "source": [
    "import numpy as np\n",
    "from sklearn.metrics import accuracy_score\n",
    "from tensorflow import keras"
   ]
  },
  {
   "cell_type": "markdown",
   "id": "f19fb44f-a8a0-491e-b4ca-9472e2454ebe",
   "metadata": {},
   "source": [
    "### Testing function"
   ]
  },
  {
   "cell_type": "code",
   "execution_count": 7,
   "id": "38c0ab0d-d29b-4a6f-91a9-6c12f5c69219",
   "metadata": {},
   "outputs": [],
   "source": [
    "# Testing function\n",
    "\n",
    "def test(test_data, test_labels, hard=False):\n",
    "    # loading the test data and labels\n",
    "    test_data = np.load(test_data)\n",
    "    test_labels = np.load(test_labels)\n",
    "    \n",
    "    #Transposing the data matrix to align dimensions for reshaping\n",
    "    test_data = test_data.T\n",
    "\n",
    "    #reshaping the test data matrix into images\n",
    "    num_images = test_data.shape[0]\n",
    "    num_channels = 3\n",
    "    #empty matrix to store reshaped images\n",
    "    test_images = np.zeros((num_images, 300, 300, num_channels), dtype=np.float32)\n",
    "    for i in range(num_images):\n",
    "        test_image = test_data[i,:].reshape((300, 300, num_channels))\n",
    "        #standardizing the images by dividing by 255\n",
    "        test_image = test_image / 255.0\n",
    "        test_images[i] = test_image\n",
    "        \n",
    "\n",
    "    #done with test data array, deleting to free up memory\n",
    "    del test_data\n",
    "\n",
    "    #loading the model. To test a different model, change the name of the model file\n",
    "    model = keras.models.load_model('AIXPERTS_Final_model.h5')\n",
    "\n",
    "    #evaluating the model, depends on if hard or easy test set\n",
    "    if hard == False:\n",
    "        test_loss, test_acc = model.evaluate(test_images, test_labels, verbose = 0)\n",
    "        probabilities = model.predict(test_images)\n",
    "        predictions = np.argmax(probabilities, axis=-1)\n",
    "    elif hard == True:\n",
    "        threshold = 0.5\n",
    "        probabilities = model.predict(test_images)\n",
    "        predictions = np.argmax(probabilities, axis=-1)\n",
    "        # set predictions to -1 where none of the probabilities are greater than the threshold\n",
    "        for i in range(len(predictions)):\n",
    "            if max(probabilities[i]) < threshold:\n",
    "                predictions[i] = -1\n",
    "        test_acc = accuracy_score(test_labels, predictions)\n",
    "\n",
    "    return test_acc, predictions\n"
   ]
  },
  {
   "cell_type": "markdown",
   "id": "6e0293a7-5f15-4cbd-9c6a-70e4fc3c475f",
   "metadata": {},
   "source": [
    "### Using function. For grading performance on the easy set, set hard = False. For the extra credit hard set performance, set hard == True. Replace \"data_train.npy\" and \"labels_train.npy\" with the file names for the files containing the testing data and corresponding labels. Include the quotation marks."
   ]
  },
  {
   "cell_type": "code",
   "execution_count": 10,
   "id": "c1a16b51-de6a-4a4c-853f-bc8b1d448374",
   "metadata": {},
   "outputs": [
    {
     "data": {
      "text/plain": [
       "(0.9900000095367432, array([6, 3, 5, ..., 6, 7, 4]))"
      ]
     },
     "execution_count": 10,
     "metadata": {},
     "output_type": "execute_result"
    }
   ],
   "source": [
    "test(\"data_train.npy\", \"labels_train.npy\", hard=False)"
   ]
  }
 ],
 "metadata": {
  "kernelspec": {
   "display_name": "Python 3 (ipykernel)",
   "language": "python",
   "name": "python3"
  },
  "language_info": {
   "codemirror_mode": {
    "name": "ipython",
    "version": 3
   },
   "file_extension": ".py",
   "mimetype": "text/x-python",
   "name": "python",
   "nbconvert_exporter": "python",
   "pygments_lexer": "ipython3",
   "version": "3.9.16"
  }
 },
 "nbformat": 4,
 "nbformat_minor": 5
}
